{
 "cells": [
  {
   "cell_type": "code",
   "execution_count": 27,
   "id": "acc30fe0-297b-4875-b0f7-263e599566b7",
   "metadata": {
    "tags": []
   },
   "outputs": [],
   "source": [
    "inference_server_url = \"INFERENCE_SERVER_URL\"\n",
    "redis_url = \"REDIS_SERVER_URL\"\n",
    "index_name = \"docs\"\n",
    "schema_name = \"redis_schema.yaml\""
   ]
  },
  {
   "cell_type": "code",
   "execution_count": 28,
   "id": "5f90d671-500f-442f-9154-d5be1ed265ba",
   "metadata": {
    "tags": []
   },
   "outputs": [],
   "source": [
    "from langchain.embeddings.huggingface import HuggingFaceEmbeddings\n",
    "from langchain.vectorstores.redis import Redis\n",
    "from langchain.chains import RetrievalQA\n",
    "from langchain.llms import HuggingFaceTextGenInference\n",
    "from langchain.callbacks.streaming_stdout import StreamingStdOutCallbackHandler\n",
    "from langchain.prompts import PromptTemplate"
   ]
  },
  {
   "cell_type": "code",
   "execution_count": 29,
   "id": "ddfe45b0-3de5-4c21-bbcd-1e3b3c0e17d3",
   "metadata": {
    "tags": []
   },
   "outputs": [],
   "source": [
    "embeddings = HuggingFaceEmbeddings()\n",
    "rds = Redis.from_existing_index(\n",
    "    embeddings,\n",
    "    redis_url=redis_url,\n",
    "    index_name=index_name,\n",
    "    schema=schema_name\n",
    ")"
   ]
  },
  {
   "cell_type": "code",
   "execution_count": 50,
   "id": "a703e243-e3f5-49c0-a466-263d669e1560",
   "metadata": {
    "tags": []
   },
   "outputs": [],
   "source": [
    "template=\"\"\"<s>[INST] <<SYS>>\n",
    "You are a helpful, respectful and honest assistant.\n",
    "You will be given a question you need to answer, and a context to provide you with information. You must answer the question based as much as possible on this context.\n",
    "Always answer as helpfully as possible, while being safe. Your answers should not include any harmful, unethical, racist, sexist, toxic, dangerous, or illegal content. Please ensure that your responses are socially unbiased and positive in nature.\n",
    "\n",
    "If a question does not make any sense, or is not factually coherent, explain why instead of answering something not correct. If you don't know the answer to a question, please don't share false information.\n",
    "<</SYS>>\n",
    "\n",
    "Question: {question}\n",
    "\n",
    "Context: {context} [/INST]\n",
    "\"\"\"\n",
    "\n",
    "QA_CHAIN_PROMPT = PromptTemplate(template=template, input_variables=[\"context\", \"question\"])"
   ]
  },
  {
   "cell_type": "code",
   "execution_count": 48,
   "id": "6d3f5a20-fa3a-4dfa-9d3d-48aaaeaf9165",
   "metadata": {
    "tags": []
   },
   "outputs": [],
   "source": [
    "llm = HuggingFaceTextGenInference(\n",
    "    inference_server_url=inference_server_url,\n",
    "    max_new_tokens=512,\n",
    "    top_k=10,\n",
    "    top_p=0.95,\n",
    "    typical_p=0.95,\n",
    "    temperature=0.1,\n",
    "    repetition_penalty=1.175,\n",
    "    streaming=True,\n",
    "    callbacks=[StreamingStdOutCallbackHandler()]\n",
    ")\n",
    "\n",
    "qa_chain = RetrievalQA.from_chain_type(llm,\n",
    "           retriever=rds.as_retriever(search_type=\"similarity\", search_kwargs={\"k\": 4, \"distance_threshold\": 0.5}),\n",
    "           chain_type_kwargs={\"prompt\": QA_CHAIN_PROMPT},\n",
    "           return_source_documents=True)"
   ]
  },
  {
   "cell_type": "code",
   "execution_count": 57,
   "id": "c6ad79b8-6e50-49a6-aa32-7aceeb29e9ea",
   "metadata": {
    "tags": []
   },
   "outputs": [
    {
     "name": "stdout",
     "output_type": "stream",
     "text": [
      "\n",
      "# OpenShift Data Science Overview\n",
      "\n",
      "OpenShift is an open-source container application platform that enables developers to build, deploy, and manage applications in a cloud or on-premises environment. It provides a comprehensive set of tools for developing, testing, and deploying applications across multiple environments. In this chapter, we will provide an overview of OpenShift data science features and capabilities.\n",
      "\n",
      "## Supported Configurations\n",
      "\n",
      "OpenShift supports various configurations for data science workloads, including:\n",
      "\n",
      "* **On-Premises**: Developers can run OpenShift clusters on their own infrastructure, providing full control over the underlying resources and security policies. This configuration allows organizations to leverage existing hardware investments while maintaining flexibility and scalability.\n",
      "* **Public Cloud**: OpenShift offers managed services on popular public clouds such as Amazon Web Services (AWS), Microsoft Azure, and Google Cloud Platform (GCP). These cloud providers offer preconfigured environments with optimized performance and cost-effective pricing models.\n",
      "* **Hybrid Cloud**: Organizations can use a combination of on-premises and public cloud resources to create a hybrid cloud environment. This configuration allows businesses to take advantage of both private and public cloud benefits, such as cost optimization, improved security, and enhanced scalability.\n",
      "\n",
      "## Product Features\n",
      "\n",
      "OpenShift data science provides several key features designed to support data scientists and IT operations administrators. The following sections outline these features in more detail.\n",
      "\n",
      "### Features for Data Scientists\n",
      "\n",
      "#### Jupyter Notebooks\n",
      "\n",
      "OpenShift supports Jupyter Notebooks, which are interactive web-based notebooks used by data scientists for coding, visualization, and analysis. Users can easily share notebooks within their team or organization, making collaboration more efficient.\n",
      "\n",
      "#### Machine Learning Frameworks\n",
      "\n",
      "OpenShift integrates with popular machine learning frameworks like TensorFlow, PyTorch, Scikit-Learn, and Keras. This integration simplifies the development process by providing preconfigured environments and libraries for each framework.\n",
      "\n",
      "#### Big Data Tools\n",
      "\n",
      "OpenShift supports big data processing tools such as Apache Spark, Hadoop Distributed File System (HDFS), and NoSQL databases like MongoDB and Cassandra. These tools enable data scientists to handle large datasets and perform complex analytics tasks efficiently.\n",
      "\n",
      "#### Container Orchestration\n",
      "\n",
      "OpenShift uses Kubernetes, an open-source container orchestration system"
     ]
    }
   ],
   "source": [
    "def build_query(product):\n",
    "    query = \"\"\"\n",
    "        Write a detailed product description for {product} that includes its name, company, technology, design features, and any additional information that would be relevant to a potential customer.\n",
    "        Highlight the benefits of the {product} and explain how it can be used for various projects.\n",
    "        Got 4 out 5 star review from clients. To request demo, contact seller,include specifications and use.\n",
    "        The blog structure should have a title, headings with multiple Subheadings, conclusion and a call-to-action section as necessary.\n",
    "        Use Modern Language Association (MLA) style with a formal tone. The length of the blog post should be a minimum of 1800 words\n",
    "    \"\"\"\n",
    "    return query.format(product=product)\n",
    "\n",
    "result=qa_chain({\"query\":build_query(\"OpenShift\")})"
   ]
  },
  {
   "cell_type": "code",
   "execution_count": 59,
   "id": "8f0e2d9c-60d8-4ab9-8952-d0e946958621",
   "metadata": {
    "tags": []
   },
   "outputs": [
    {
     "name": "stdout",
     "output_type": "stream",
     "text": [
      "{'query': '\\n        Write a detailed product description for OpenShift that includes its name, company, technology, design features, and any additional information that would be relevant to a potential customer.\\n        Highlight the benefits of the OpenShift and explain how it can be used for various projects.\\n        Got 4 out 5 star review from clients. To request demo, contact seller,include specifications and use.\\n        The blog structure should have a title, headings with multiple Subheadings, conclusion and a call-to-action section as necessary.\\n        Use Modern Language Association (MLA) style with a formal tone. The length of the blog post should be a minimum of 1800 words\\n    ', 'result': '\\n# OpenShift Data Science Overview\\n\\nOpenShift is an open-source container application platform that enables developers to build, deploy, and manage applications in a cloud or on-premises environment. It provides a comprehensive set of tools for developing, testing, and deploying applications across multiple environments. In this chapter, we will provide an overview of OpenShift data science features and capabilities.\\n\\n## Supported Configurations\\n\\nOpenShift supports various configurations for data science workloads, including:\\n\\n* **On-Premises**: Developers can run OpenShift clusters on their own infrastructure, providing full control over the underlying resources and security policies. This configuration allows organizations to leverage existing hardware investments while maintaining flexibility and scalability.\\n* **Public Cloud**: OpenShift offers managed services on popular public clouds such as Amazon Web Services (AWS), Microsoft Azure, and Google Cloud Platform (GCP). These cloud providers offer preconfigured environments with optimized performance and cost-effective pricing models.\\n* **Hybrid Cloud**: Organizations can use a combination of on-premises and public cloud resources to create a hybrid cloud environment. This configuration allows businesses to take advantage of both private and public cloud benefits, such as cost optimization, improved security, and enhanced scalability.\\n\\n## Product Features\\n\\nOpenShift data science provides several key features designed to support data scientists and IT operations administrators. The following sections outline these features in more detail.\\n\\n### Features for Data Scientists\\n\\n#### Jupyter Notebooks\\n\\nOpenShift supports Jupyter Notebooks, which are interactive web-based notebooks used by data scientists for coding, visualization, and analysis. Users can easily share notebooks within their team or organization, making collaboration more efficient.\\n\\n#### Machine Learning Frameworks\\n\\nOpenShift integrates with popular machine learning frameworks like TensorFlow, PyTorch, Scikit-Learn, and Keras. This integration simplifies the development process by providing preconfigured environments and libraries for each framework.\\n\\n#### Big Data Tools\\n\\nOpenShift supports big data processing tools such as Apache Spark, Hadoop Distributed File System (HDFS), and NoSQL databases like MongoDB and Cassandra. These tools enable data scientists to handle large datasets and perform complex analytics tasks efficiently.\\n\\n#### Container Orchestration\\n\\nOpenShift uses Kubernetes, an open-source container orchestration system', 'source_documents': [Document(page_content='. . . . . . . . . . . . . . . . . . . . . . . . . . . . . . . . . . . . . . . . . . . . . . . . . . . . . . . . . . . . . . . . . . . . . . . . . . . . . . . . . . . . . . . . . . . . . . . . . . . . . . . . . . . . . . . . . . . . . . . . . . . . . . . . . . . . . . . . . . . . . . . . . . . . . . . . . . . . . . . . . . . . . . . . . . . . . . . . . . . . . . . . . . . . . . . . . . . . . . . . . . . . . . . . . . . . . . . . . . . . . . . . . . . . . . . . . . . . . . . . . . . . . . . . . . . . . . . . . . . . . . . . . . . . . . . . . . . . . . . .\\nTable of Contents\\nCHAPTER 1. OVERVIEW OF OPENSHIFT DATA SCIENCE\\nCHAPTER 2. SUPPORTED CONFIGURATIONS\\nCHAPTER 3. PRODUCT FEATURES\\n3.1. FEATURES FOR DATA SCIENTISTS\\n3.2. FEATURES FOR IT OPERATIONS ADMINISTRATORS\\nCHAPTER 4. TRY IT\\nCHAPTER 5. GET IT\\n3\\n4\\n5\\n5\\n5\\n7\\n8\\nTable of Contents\\n1', metadata={'id': 'doc:docs:8eb124750d0e4a0a87e7d2aec9434195', 'source': 'rhods-doc/red_hat_openshift_data_science_self-managed-1.32-introduction_to_red_hat_openshift_data_science-en-us.pdf', 'page': '4'}), Document(page_content='. . . . . . . . . . . . . . . . . . . . . . . . . . . . . . . . . . . . . . . . . . . . . . . . . . . . . . . . . . . . . . . . . . . . . . . . . . . . . . . . . . . . . . . . . . . . . . . . . . . . . . . . . . . . . . . . . . . . . . . . . . . . . . . . . . . . . . . . . . . . . . . . . . . . . . . . . . . . . . . . . . . . . . . . . . . . . . . . . . . . . . . . . . . . . . . . . . . . . . . . . . . . . . . . . . . . . . . . . . . . . . . . . . . . . . . . . . . . . . . . . . . . . . . . . . . . . . . . . . . . . . . . . . . . . . . . . . . . . . . .\\nTable of Contents\\nCHAPTER 1. OVERVIEW OF OPENSHIFT DATA SCIENCE\\nCHAPTER 2. SUPPORTED CONFIGURATIONS\\nCHAPTER 3. PRODUCT FEATURES\\n3.1. FEATURES FOR DATA SCIENTISTS\\n3.2. FEATURES FOR IT OPERATIONS ADMINISTRATORS\\nCHAPTER 4. TRY IT\\nCHAPTER 5. GET IT\\n3\\n4\\n5\\n5\\n5\\n7\\n8\\nTable of Contents\\n1', metadata={'id': 'doc:docs:bbb53e92203b4488a0e267d38e068ff2', 'source': 'rhods-doc/red_hat_openshift_data_science_self-managed-1.32-introduction_to_red_hat_openshift_data_science-en-us.pdf', 'page': '4'}), Document(page_content='. . . . . . . . . . . . . . . . . . . . . . . . . . . . . . . . . . . . . . . . . . . . . . . . . . . . . . . . . . . . . . . . . . . . . . . . . . . . . . . . . . . . . . . . . . . . . . . . . . . . . . . . . . . . . . . . . . . . . . . . . . . . . . . . . . . . . . . . . . . . . . . . . . . . . . . . . . . . . . . . . . . . . . . . . . . . . . . . . . . . . . . . . . . . . . . . . . . . . . . . . . . . . . . . . . . . . . . . . . . . . . . . . . . . . . . . . . . . . . . . . . . . . . . . . . . . . . . . . . . . . . . . . . . . . . . . . . . . . . . .\\nTable of Contents\\nCHAPTER 1. OVERVIEW OF OPENSHIFT DATA SCIENCE\\nCHAPTER 2. SUPPORTED CONFIGURATIONS\\nCHAPTER 3. PRODUCT FEATURES\\n3.1. FEATURES FOR DATA SCIENTISTS\\n3.2. FEATURES FOR IT OPERATIONS ADMINISTRATORS\\nCHAPTER 4. TRY IT\\nCHAPTER 5. GET IT\\n3\\n4\\n5\\n5\\n5\\n7\\n8\\nTable of Contents\\n1', metadata={'id': 'doc:docs:d266242f355c4f71b66129122968d484', 'source': 'rhods-doc/red_hat_openshift_data_science_self-managed-1.32-introduction_to_red_hat_openshift_data_science-en-us.pdf', 'page': '4'}), Document(page_content='. . . . . . . . . . . . . . . . . . . . . . . . . . . . . . . . . . . . . . . . . . . . . . . . . . . . . . . . . . . . . . . . . . . . . . . . . . . . . . . . . . . . . . . . . . . . . . . . . . . . . . . . . . . . . . . . . . . . . . . . . . . . . . . . . . . . . . . . . . . . . . . . . . . . . . . . . . . . . . . . . . . . . . . . . . . . . . . . . . . . . . . . . . . . . . . . . . . . . . . . . . . . . . . . . . . . . . . . . . . . . . . . . . . . . . . . . . . . . . . . . . . . . . . . . . . . . . . . . . . . . . . . . . . . . . . . . . . . . . . .\\nTable of Contents\\nCHAPTER 1. OVERVIEW OF OPENSHIFT DATA SCIENCE\\nCHAPTER 2. SUPPORTED CONFIGURATIONS\\nCHAPTER 3. PRODUCT FEATURES\\n3.1. FEATURES FOR DATA SCIENTISTS\\n3.2. FEATURES FOR IT OPERATIONS ADMINISTRATORS\\nCHAPTER 4. TRY IT\\nCHAPTER 5. GET IT\\n3\\n4\\n5\\n5\\n5\\n7\\n8\\nTable of Contents\\n1', metadata={'id': 'doc:docs:e043e27925b1414d916af6aa721872db', 'source': 'rhods-doc/red_hat_openshift_data_science_self-managed-1.32-introduction_to_red_hat_openshift_data_science-en-us.pdf', 'page': '4'})]}\n"
     ]
    }
   ],
   "source": [
    "print(result)"
   ]
  },
  {
   "cell_type": "code",
   "execution_count": null,
   "id": "372d5657-bcf6-425a-a646-6113e743190f",
   "metadata": {},
   "outputs": [],
   "source": []
  }
 ],
 "metadata": {
  "kernelspec": {
   "display_name": "Python 3.11",
   "language": "python",
   "name": "python3"
  },
  "language_info": {
   "codemirror_mode": {
    "name": "ipython",
    "version": 3
   },
   "file_extension": ".py",
   "mimetype": "text/x-python",
   "name": "python",
   "nbconvert_exporter": "python",
   "pygments_lexer": "ipython3",
   "version": "3.11.4"
  }
 },
 "nbformat": 4,
 "nbformat_minor": 5
}
